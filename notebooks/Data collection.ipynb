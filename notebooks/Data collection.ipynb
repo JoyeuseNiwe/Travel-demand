{
  "cells": [
    {
      "cell_type": "markdown",
      "source": [
        "pandas as pd: Used for handling data in tabular format, perfect for working with flight or hotel data.\n",
        "\n",
        "amadeus.Client: Allows interaction with the Amadeus API, which provides access to travel data like flights, hotels, and city info.\n",
        "\n",
        "datetime, timedelta: Used for working with and manipulating dates — important when querying flight availability for specific time windows.\n",
        "\n",
        "IPython.display.display: Enables pretty display of DataFrames or outputs in Jupyter/Colab environments.\n",
        "\n",
        "time: Standard Python module for managing time-based tasks like delays or measuring performance."
      ],
      "metadata": {
        "id": "NWwPPI4PT6WY"
      },
      "id": "NWwPPI4PT6WY"
    },
    {
      "cell_type": "code",
      "execution_count": null,
      "id": "0034a0b1-0ca7-4194-99b3-4f7fdef36315",
      "metadata": {
        "id": "0034a0b1-0ca7-4194-99b3-4f7fdef36315"
      },
      "outputs": [],
      "source": [
        "import pandas as pd\n",
        "from amadeus import Client\n",
        "from datetime import datetime, timedelta\n",
        "from IPython.display import display\n",
        "import time"
      ]
    },
    {
      "cell_type": "markdown",
      "source": [
        "### Function Overview\n",
        "This function automates the process of collecting flight offer data from New York (JFK) to major tech hub cities using the Amadeus API. Data is collected in weekly batches over a specified period (default: 28 days).\n",
        "\n",
        "\n",
        "Key Components\n",
        "Component\tDescription\n",
        "cities\tDictionary of tech hub cities and their airport codes\n",
        "batch_days\tNumber of days per batch fetch (default = 7)\n",
        "Client()\tInitializes Amadeus API with provided credentials\n",
        "flight_offers_search.get(...)\tRetrieves flight offers for specified date and destination\n",
        "all_flights.append(...)\tStores relevant flight data such as airline, price, stops, and travel time\n",
        "time.sleep(3)\tPauses to avoid exceeding API rate limits\n",
        "df.to_csv(...)\tSaves all collected data to a CSV file for future analysis"
      ],
      "metadata": {
        "id": "TpP2PJmcUk-H"
      },
      "id": "TpP2PJmcUk-H"
    },
    {
      "cell_type": "code",
      "execution_count": null,
      "id": "215b9576-8840-478d-a928-91b484de16bf",
      "metadata": {
        "id": "215b9576-8840-478d-a928-91b484de16bf"
      },
      "outputs": [],
      "source": [
        "def fetch_travel_data_batch(batch_days=7, total_days=28):\n",
        "    amadeus = Client(\n",
        "        client_id='SAissvHXkQwiVPmmg7XbOFfC2OYlqlde',\n",
        "        client_secret='1jNqoOBhG7s7xgDE'\n",
        "    )\n",
        "\n",
        "    cities = {\n",
        "        \"San Francisco\": {\"airport\": \"SFO\", \"city_code\": \"SFO\"},\n",
        "        \"London\": {\"airport\": \"LON\", \"city_code\": \"LON\"},\n",
        "        \"Bangalore\": {\"airport\": \"BLR\", \"city_code\": \"BLR\"},\n",
        "        \"Singapore\": {\"airport\": \"SIN\", \"city_code\": \"SIN\"},\n",
        "        \"Tel Aviv\": {\"airport\": \"TLV\", \"city_code\": \"TLV\"}\n",
        "    }\n",
        "\n",
        "    start_date = datetime.today() + timedelta(days=7)\n",
        "    end_date = start_date + timedelta(days=total_days)\n",
        "\n",
        "    all_flights = []\n",
        "\n",
        "    current_start = start_date\n",
        "\n",
        "    while current_start < end_date:\n",
        "        current_end = min(current_start + timedelta(days=batch_days), end_date)\n",
        "        date_range = [current_start + timedelta(days=i) for i in range((current_end - current_start).days)]\n",
        "\n",
        "        print(f\"Fetching data from {current_start.strftime('%Y-%m-%d')} to {current_end.strftime('%Y-%m-%d')}...\")\n",
        "\n",
        "        for travel_date in date_range:\n",
        "            check_in_date = travel_date.strftime('%Y-%m-%d')\n",
        "\n",
        "            for city_name, codes in cities.items():\n",
        "                try:\n",
        "                    flight_response = amadeus.shopping.flight_offers_search.get(\n",
        "                        originLocationCode='JFK',\n",
        "                        destinationLocationCode=codes['airport'],\n",
        "                        departureDate=check_in_date,\n",
        "                        adults=1\n",
        "                    )\n",
        "\n",
        "                    if flight_response.data:\n",
        "                        for offer in flight_response.data:\n",
        "                            itinerary = offer['itineraries'][0]\n",
        "                            segment = itinerary['segments'][0]\n",
        "                            all_flights.append({\n",
        "                                'Destination': city_name,\n",
        "                                'Departure Date': segment['departure']['at'][:10],\n",
        "                                'Airline': segment['carrierCode'],\n",
        "                                'Price (USD)': float(offer['price']['total']),\n",
        "                                'Number of Stops': len(itinerary['segments']) - 1,\n",
        "                                'Travel Time': segment['duration'].replace('PT', ''),\n",
        "                                'Available Seats': offer.get('numberOfBookableSeats', 'N/A')\n",
        "                            })\n",
        "                except Exception as e:\n",
        "                    print(f\"Flight error for {city_name} on {check_in_date}: {e}\")\n",
        "                time.sleep(3)\n",
        "\n",
        "        current_start = current_end\n",
        "\n",
        "    df_flights = pd.DataFrame(all_flights)\n",
        "    df_flights.to_csv(\"tech_city_flights.csv\", index=False)\n",
        "\n",
        "    print(\"\\n Flights Data Sample:\")\n",
        "    display(df_flights.head())\n",
        "\n",
        "#fetch_travel_data_batch()\n"
      ]
    },
    {
      "cell_type": "markdown",
      "source": [
        "###Loading the Collected Flight Data\n",
        "\n",
        "pd.read_csv(\"tech_city_flights.csv\"):\n",
        "Loads the flight data previously saved into a CSV file. This file contains all flight offers collected by the fetch_travel_data_batch() function.\n",
        "\n",
        "df_flights:\n",
        "Displays the full DataFrame in the notebook or Google Colab environment so you can visually inspect the rows and columns."
      ],
      "metadata": {
        "id": "KhbnbpEGVNVq"
      },
      "id": "KhbnbpEGVNVq"
    },
    {
      "cell_type": "code",
      "execution_count": null,
      "id": "cf672b1e-5a78-4aa6-9719-39e34c6e8229",
      "metadata": {
        "id": "cf672b1e-5a78-4aa6-9719-39e34c6e8229",
        "outputId": "6c885451-ef33-427e-c6af-bb8f58a00e10"
      },
      "outputs": [
        {
          "data": {
            "text/html": [
              "<div>\n",
              "<style scoped>\n",
              "    .dataframe tbody tr th:only-of-type {\n",
              "        vertical-align: middle;\n",
              "    }\n",
              "\n",
              "    .dataframe tbody tr th {\n",
              "        vertical-align: top;\n",
              "    }\n",
              "\n",
              "    .dataframe thead th {\n",
              "        text-align: right;\n",
              "    }\n",
              "</style>\n",
              "<table border=\"1\" class=\"dataframe\">\n",
              "  <thead>\n",
              "    <tr style=\"text-align: right;\">\n",
              "      <th></th>\n",
              "      <th>Destination</th>\n",
              "      <th>Departure Date</th>\n",
              "      <th>Airline</th>\n",
              "      <th>Price (USD)</th>\n",
              "      <th>Number of Stops</th>\n",
              "      <th>Travel Time</th>\n",
              "      <th>Available Seats</th>\n",
              "    </tr>\n",
              "  </thead>\n",
              "  <tbody>\n",
              "    <tr>\n",
              "      <th>0</th>\n",
              "      <td>San Francisco</td>\n",
              "      <td>2025-07-01</td>\n",
              "      <td>B6</td>\n",
              "      <td>79.90</td>\n",
              "      <td>0</td>\n",
              "      <td>6H15M</td>\n",
              "      <td>1</td>\n",
              "    </tr>\n",
              "    <tr>\n",
              "      <th>1</th>\n",
              "      <td>San Francisco</td>\n",
              "      <td>2025-07-01</td>\n",
              "      <td>B6</td>\n",
              "      <td>79.90</td>\n",
              "      <td>0</td>\n",
              "      <td>6H20M</td>\n",
              "      <td>1</td>\n",
              "    </tr>\n",
              "    <tr>\n",
              "      <th>2</th>\n",
              "      <td>San Francisco</td>\n",
              "      <td>2025-07-01</td>\n",
              "      <td>B6</td>\n",
              "      <td>79.90</td>\n",
              "      <td>0</td>\n",
              "      <td>6H35M</td>\n",
              "      <td>1</td>\n",
              "    </tr>\n",
              "    <tr>\n",
              "      <th>3</th>\n",
              "      <td>San Francisco</td>\n",
              "      <td>2025-07-01</td>\n",
              "      <td>B6</td>\n",
              "      <td>79.90</td>\n",
              "      <td>0</td>\n",
              "      <td>6H45M</td>\n",
              "      <td>1</td>\n",
              "    </tr>\n",
              "    <tr>\n",
              "      <th>4</th>\n",
              "      <td>San Francisco</td>\n",
              "      <td>2025-07-01</td>\n",
              "      <td>F9</td>\n",
              "      <td>156.03</td>\n",
              "      <td>1</td>\n",
              "      <td>5H42M</td>\n",
              "      <td>3</td>\n",
              "    </tr>\n",
              "    <tr>\n",
              "      <th>...</th>\n",
              "      <td>...</td>\n",
              "      <td>...</td>\n",
              "      <td>...</td>\n",
              "      <td>...</td>\n",
              "      <td>...</td>\n",
              "      <td>...</td>\n",
              "      <td>...</td>\n",
              "    </tr>\n",
              "    <tr>\n",
              "      <th>10704</th>\n",
              "      <td>Tel Aviv</td>\n",
              "      <td>2025-07-28</td>\n",
              "      <td>LY</td>\n",
              "      <td>1892.03</td>\n",
              "      <td>1</td>\n",
              "      <td>1H48M</td>\n",
              "      <td>9</td>\n",
              "    </tr>\n",
              "    <tr>\n",
              "      <th>10705</th>\n",
              "      <td>Tel Aviv</td>\n",
              "      <td>2025-07-28</td>\n",
              "      <td>LY</td>\n",
              "      <td>1892.03</td>\n",
              "      <td>1</td>\n",
              "      <td>1H29M</td>\n",
              "      <td>4</td>\n",
              "    </tr>\n",
              "    <tr>\n",
              "      <th>10706</th>\n",
              "      <td>Tel Aviv</td>\n",
              "      <td>2025-07-28</td>\n",
              "      <td>LX</td>\n",
              "      <td>4883.50</td>\n",
              "      <td>1</td>\n",
              "      <td>7H50M</td>\n",
              "      <td>9</td>\n",
              "    </tr>\n",
              "    <tr>\n",
              "      <th>10707</th>\n",
              "      <td>Tel Aviv</td>\n",
              "      <td>2025-07-28</td>\n",
              "      <td>IB</td>\n",
              "      <td>9694.38</td>\n",
              "      <td>1</td>\n",
              "      <td>7H30M</td>\n",
              "      <td>2</td>\n",
              "    </tr>\n",
              "    <tr>\n",
              "      <th>10708</th>\n",
              "      <td>Tel Aviv</td>\n",
              "      <td>2025-07-28</td>\n",
              "      <td>LX</td>\n",
              "      <td>12719.28</td>\n",
              "      <td>1</td>\n",
              "      <td>7H55M</td>\n",
              "      <td>2</td>\n",
              "    </tr>\n",
              "  </tbody>\n",
              "</table>\n",
              "<p>10709 rows × 7 columns</p>\n",
              "</div>"
            ],
            "text/plain": [
              "         Destination Departure Date Airline  Price (USD)  Number of Stops  \\\n",
              "0      San Francisco     2025-07-01      B6        79.90                0   \n",
              "1      San Francisco     2025-07-01      B6        79.90                0   \n",
              "2      San Francisco     2025-07-01      B6        79.90                0   \n",
              "3      San Francisco     2025-07-01      B6        79.90                0   \n",
              "4      San Francisco     2025-07-01      F9       156.03                1   \n",
              "...              ...            ...     ...          ...              ...   \n",
              "10704       Tel Aviv     2025-07-28      LY      1892.03                1   \n",
              "10705       Tel Aviv     2025-07-28      LY      1892.03                1   \n",
              "10706       Tel Aviv     2025-07-28      LX      4883.50                1   \n",
              "10707       Tel Aviv     2025-07-28      IB      9694.38                1   \n",
              "10708       Tel Aviv     2025-07-28      LX     12719.28                1   \n",
              "\n",
              "      Travel Time  Available Seats  \n",
              "0           6H15M                1  \n",
              "1           6H20M                1  \n",
              "2           6H35M                1  \n",
              "3           6H45M                1  \n",
              "4           5H42M                3  \n",
              "...           ...              ...  \n",
              "10704       1H48M                9  \n",
              "10705       1H29M                4  \n",
              "10706       7H50M                9  \n",
              "10707       7H30M                2  \n",
              "10708       7H55M                2  \n",
              "\n",
              "[10709 rows x 7 columns]"
            ]
          },
          "execution_count": 3,
          "metadata": {},
          "output_type": "execute_result"
        }
      ],
      "source": [
        "df_flights = pd.read_csv(\"tech_city_flights.csv\")\n",
        "df_flights"
      ]
    },
    {
      "cell_type": "markdown",
      "source": [
        "###Counting Flight Entries by Destination\n",
        "The .value_counts() function is used to count the number of occurrences of each unique value in the Destination column of the df_flights DataFrame.\n",
        "\n",
        "This tells us how many flight offers were collected for each tech hub city\n",
        "\n",
        "Helps identify which cities have the most or least data in your dataset.\n",
        "\n",
        "Useful for balancing comparisons (e.g., are there fewer offers for Tel Aviv than for London?).\n",
        "\n"
      ],
      "metadata": {
        "id": "L4lpwjZoVrGL"
      },
      "id": "L4lpwjZoVrGL"
    },
    {
      "cell_type": "code",
      "execution_count": null,
      "id": "acd3a772-8a60-4454-9479-3fcc0d1bb85f",
      "metadata": {
        "id": "acd3a772-8a60-4454-9479-3fcc0d1bb85f",
        "outputId": "1aae489f-6aa6-45e5-a307-c921fb0ae719"
      },
      "outputs": [
        {
          "data": {
            "text/plain": [
              "Destination\n",
              "London           4442\n",
              "Tel Aviv         1719\n",
              "Bangalore        1658\n",
              "San Francisco    1467\n",
              "Singapore        1423\n",
              "Name: count, dtype: int64"
            ]
          },
          "execution_count": 4,
          "metadata": {},
          "output_type": "execute_result"
        }
      ],
      "source": [
        "df_flights['Destination'].value_counts()\n"
      ]
    },
    {
      "cell_type": "code",
      "execution_count": null,
      "id": "cb06b54e-bd30-42bb-a61c-6373b10ab8aa",
      "metadata": {
        "id": "cb06b54e-bd30-42bb-a61c-6373b10ab8aa",
        "outputId": "27a254e0-d4c4-409b-f3d4-87e6a6c91779"
      },
      "outputs": [
        {
          "name": "stdout",
          "output_type": "stream",
          "text": [
            "Requirement already satisfied: amadeus in c:\\users\\user\\anaconda3\\lib\\site-packages (12.0.0)\n",
            "Note: you may need to restart the kernel to use updated packages.\n"
          ]
        }
      ],
      "source": [
        "pip install amadeus"
      ]
    },
    {
      "cell_type": "code",
      "execution_count": null,
      "id": "e6075081-a966-4f89-821c-1e29ab8abae1",
      "metadata": {
        "id": "e6075081-a966-4f89-821c-1e29ab8abae1"
      },
      "outputs": [],
      "source": []
    }
  ],
  "metadata": {
    "kernelspec": {
      "display_name": "Python 3 (ipykernel)",
      "language": "python",
      "name": "python3"
    },
    "language_info": {
      "codemirror_mode": {
        "name": "ipython",
        "version": 3
      },
      "file_extension": ".py",
      "mimetype": "text/x-python",
      "name": "python",
      "nbconvert_exporter": "python",
      "pygments_lexer": "ipython3",
      "version": "3.12.7"
    },
    "colab": {
      "provenance": []
    }
  },
  "nbformat": 4,
  "nbformat_minor": 5
}